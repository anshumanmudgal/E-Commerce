{
  "nbformat": 4,
  "nbformat_minor": 0,
  "metadata": {
    "colab": {
      "provenance": [],
      "toc_visible": true,
      "include_colab_link": true
    },
    "kernelspec": {
      "name": "python3",
      "display_name": "Python 3"
    },
    "language_info": {
      "name": "python"
    }
  },
  "cells": [
    {
      "cell_type": "markdown",
      "metadata": {
        "id": "view-in-github",
        "colab_type": "text"
      },
      "source": [
        "<a href=\"https://colab.research.google.com/github/anshumanmudgal/E-Commerce/blob/main/Music_Recommender.ipynb\" target=\"_parent\"><img src=\"https://colab.research.google.com/assets/colab-badge.svg\" alt=\"Open In Colab\"/></a>"
      ]
    },
    {
      "cell_type": "markdown",
      "source": [
        "Imports\n"
      ],
      "metadata": {
        "id": "vc8O_kCOOmoZ"
      }
    },
    {
      "cell_type": "code",
      "source": [
        "import numpy as np\n",
        "import pandas as pd\n",
        "from sklearn.preprocessing import StandardScaler\n",
        "from sklearn.model_selection import train_test_split\n",
        "import librosa"
      ],
      "metadata": {
        "id": "cZVVcG8kOp35"
      },
      "execution_count": null,
      "outputs": []
    },
    {
      "cell_type": "markdown",
      "source": [
        "Music Recommender System Class\n"
      ],
      "metadata": {
        "id": "tJnoxtfFOtAq"
      }
    },
    {
      "cell_type": "code",
      "source": [
        "class MusicRecommender:\n",
        "    def __init__(self):\n",
        "        self.features_df = None\n",
        "        self.scaler = StandardScaler()\n",
        "        self.trained = False\n",
        "        self.n_mfcc = 20  # Increased number of MFCCs\n",
        "        self.feature_names = None\n",
        "\n",
        "\n",
        " # Extracting features\n",
        "    def extract_features(self, audio_file):\n",
        "\n",
        "      \"\"\"Extract audio features from a file\"\"\"\n",
        "      try:\n",
        "          # Load the audio file\n",
        "          y, sr = librosa.load(audio_file, duration=30)\n",
        "\n",
        "          features = {}\n",
        "\n",
        "          # Extract MFCCs\n",
        "          mfccs = librosa.feature.mfcc(y=y, sr=sr, n_mfcc=self.n_mfcc)\n",
        "          for i, mfcc in enumerate(mfccs):\n",
        "              features[f'mfcc_{i+1}_mean'] = np.mean(mfcc)\n",
        "              features[f'mfcc_{i+1}_var'] = np.var(mfcc)\n",
        "              features[f'mfcc_{i+1}_max'] = np.max(mfcc)\n",
        "              features[f'mfcc_{i+1}_min'] = np.min(mfcc)\n",
        "\n",
        "          # Spectral features\n",
        "          spectral_centroids = librosa.feature.spectral_centroid(y=y, sr=sr)[0]\n",
        "          features['spectral_centroid_mean'] = np.mean(spectral_centroids)\n",
        "          features['spectral_centroid_var'] = np.var(spectral_centroids)\n",
        "\n",
        "          spectral_rolloff = librosa.feature.spectral_rolloff(y=y, sr=sr)[0]\n",
        "          features['spectral_rolloff_mean'] = np.mean(spectral_rolloff)\n",
        "          features['spectral_rolloff_var'] = np.var(spectral_rolloff)\n",
        "\n",
        "          # Chroma features\n",
        "          chroma = librosa.feature.chroma_stft(y=y, sr=sr)\n",
        "          features['chroma_mean'] = np.mean(chroma)\n",
        "          features['chroma_var'] = np.var(chroma)\n",
        "\n",
        "          # Zero crossing rate\n",
        "          zcr = librosa.feature.zero_crossing_rate(y)[0]\n",
        "          features['zcr_mean'] = np.mean(zcr)\n",
        "          features['zcr_var'] = np.var(zcr)\n",
        "\n",
        "          # Tempo and beat features\n",
        "          tempo, _ = librosa.beat.beat_track(y=y, sr=sr)\n",
        "          features['tempo'] = tempo\n",
        "\n",
        "          # RMS energy\n",
        "          rms = librosa.feature.rms(y=y)[0]\n",
        "          features['rms_mean'] = np.mean(rms)\n",
        "          features['rms_var'] = np.var(rms)\n",
        "\n",
        "          if self.feature_names is None:\n",
        "              self.feature_names = list(features.keys())\n",
        "\n",
        "          # Ensure all features are present\n",
        "          for name in self.feature_names:\n",
        "              if name not in features:\n",
        "                  features[name] = 0.0\n",
        "\n",
        "          return features\n",
        "\n",
        "      except Exception as e:\n",
        "          print(f\"Error extracting features from {audio_file}: {str(e)}\")\n",
        "          return None\n",
        "\n",
        "\n",
        "          # Model Train\n",
        "    def train(self, data_path):\n",
        "      \"\"\"Train the recommender system using the provided dataset\"\"\"\n",
        "      try:\n",
        "          print(\"Loading data...\")\n",
        "          # Load the dataset\n",
        "          df = pd.read_csv(data_path)\n",
        "\n",
        "          # Store feature names\n",
        "          self.feature_names = list(df.columns)\n",
        "\n",
        "          # Standardize features\n",
        "          print(\"Processing features...\")\n",
        "          self.features_df = pd.DataFrame(\n",
        "              self.scaler.fit_transform(df),\n",
        "              columns=self.feature_names\n",
        "          )\n",
        "\n",
        "          self.trained = True\n",
        "          print(\"Training completed.\")\n",
        "\n",
        "      except Exception as e:\n",
        "          print(f\"An error occurred during training: {str(e)}\")\n",
        "          raise\n",
        "\n",
        "    def get_recommendations(self, input_features, n_recommendations=5):\n",
        "      \"\"\"Get recommendations based on input features\"\"\"\n",
        "      try:\n",
        "          if not self.trained:\n",
        "              raise ValueError(\"Model not trained yet. Please train first.\")\n",
        "\n",
        "          # Convert features to DataFrame with correct column order\n",
        "          input_df = pd.DataFrame([input_features])[self.feature_names]\n",
        "\n",
        "          # Standardize input features\n",
        "          input_scaled = self.scaler.transform(input_df)\n",
        "\n",
        "          # Calculate similarities\n",
        "          similarities = []\n",
        "          for idx, row in self.features_df.iterrows():\n",
        "              similarity = np.dot(input_scaled[0], row) / (\n",
        "                  np.linalg.norm(input_scaled[0]) * np.linalg.norm(row)\n",
        "              )\n",
        "              similarities.append((idx, similarity))\n",
        "\n",
        "          # Sort by similarity\n",
        "          similarities.sort(key=lambda x: x[1], reverse=True)\n",
        "\n",
        "          return similarities[:n_recommendations]\n",
        "\n",
        "      except Exception as e:\n",
        "          print(f\"An error occurred while generating recommendations: {str(e)}\")\n",
        "          print(f\"Debug info - Input features shape: {len(input_features)}, Expected features: {len(self.feature_names)}\")\n",
        "          print(f\"Missing features: {set(self.feature_names) - set(input_features.keys())}\")\n",
        "          return []\n",
        "\n",
        "    def main():\n",
        "      try:\n",
        "            # Initialize recommender\n",
        "            recommender = MusicRecommender()\n",
        "\n",
        "            print(\"Training the recommender...\")\n",
        "            # Train with your dataset\n",
        "            recommender.train('/content/Training_set_songs.csv')\n",
        "\n",
        "            print(\"Generating recommendations...\")\n",
        "            # Extract features from a test song\n",
        "            test_song = '/content/let_her_go.mp3'\n",
        "            test_features = recommender.extract_features(test_song)\n",
        "\n",
        "            if test_features:\n",
        "              # Get recommendations\n",
        "              recommendations = recommender.get_recommendations(test_features)\n",
        "\n",
        "              print(\"\\nRecommended songs:\")\n",
        "              for idx, similarity in recommendations:\n",
        "                  print(f\"Song {idx}: Similarity = {similarity:.3f}\")\n",
        "            else:\n",
        "                print(\"Could not process test song.\")\n",
        "\n",
        "      except Exception as e:\n",
        "              print(f\"An error occurred: {str(e)}\")\n",
        "\n",
        "    if __name__ == \"__main__\":\n",
        "      main()\n"
      ],
      "metadata": {
        "id": "5SUWwdGnOwWN",
        "colab": {
          "base_uri": "https://localhost:8080/"
        },
        "outputId": "3cbe8b2c-d770-4575-ef53-83e40104f6a1"
      },
      "execution_count": null,
      "outputs": [
        {
          "output_type": "stream",
          "name": "stdout",
          "text": [
            "Training the recommender...\n",
            "Loading data...\n",
            "Processing features...\n",
            "Training completed.\n",
            "Generating recommendations...\n",
            "\n",
            "Recommended songs:\n",
            "Song 741: Similarity = 0.631\n",
            "Song 8497: Similarity = 0.611\n",
            "Song 8528: Similarity = 0.611\n",
            "Song 4019: Similarity = 0.610\n",
            "Song 4028: Similarity = 0.591\n"
          ]
        }
      ]
    },
    {
      "cell_type": "markdown",
      "source": [
        "Model Building"
      ],
      "metadata": {
        "id": "J1BhWDkhO1ol"
      }
    },
    {
      "cell_type": "markdown",
      "source": [
        "Feature Extraction"
      ],
      "metadata": {
        "id": "2DvVUOfEPKWw"
      }
    },
    {
      "cell_type": "code",
      "source": [],
      "metadata": {
        "id": "gdMvQXUfs5Gn"
      },
      "execution_count": null,
      "outputs": []
    },
    {
      "cell_type": "markdown",
      "source": [
        "Model Training"
      ],
      "metadata": {
        "id": "dQRRkjVKPSen"
      }
    },
    {
      "cell_type": "code",
      "source": [],
      "metadata": {
        "id": "5isHYPG4sXmx"
      },
      "execution_count": null,
      "outputs": []
    },
    {
      "cell_type": "markdown",
      "source": [
        "Recommendation"
      ],
      "metadata": {
        "id": "uGj2qCySPaNM"
      }
    },
    {
      "cell_type": "code",
      "source": [
        "\n"
      ],
      "metadata": {
        "id": "tyyp96tesnhX"
      },
      "execution_count": null,
      "outputs": []
    },
    {
      "cell_type": "markdown",
      "source": [
        "Example\n"
      ],
      "metadata": {
        "id": "kKxCPNonPeHb"
      }
    },
    {
      "cell_type": "code",
      "source": [],
      "metadata": {
        "colab": {
          "base_uri": "https://localhost:8080/"
        },
        "id": "KtNXS64MPimw",
        "outputId": "cde0cc29-d8b3-4edf-e8d8-07e52bec8b7f"
      },
      "execution_count": null,
      "outputs": [
        {
          "output_type": "stream",
          "name": "stdout",
          "text": [
            "Training the recommender...\n",
            "An error occurred: 'MusicRecommender' object has no attribute 'train'\n"
          ]
        }
      ]
    },
    {
      "cell_type": "code",
      "source": [],
      "metadata": {
        "id": "ub2CrLlxgmyO"
      },
      "execution_count": null,
      "outputs": []
    }
  ]
}